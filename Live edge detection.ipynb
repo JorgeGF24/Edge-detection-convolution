{
 "cells": [
  {
   "attachments": {},
   "cell_type": "markdown",
   "metadata": {},
   "source": [
    "# Pipeline for edge detection of live webcam input\n",
    "### Convolve with Prewitt opperator\n"
   ]
  },
  {
   "cell_type": "code",
   "execution_count": null,
   "metadata": {},
   "outputs": [],
   "source": [
    "import numpy as np\n",
    "import cv2\n",
    "import torch\n",
    "from torchvision import transforms\n",
    "import torch.nn.functional as F"
   ]
  },
  {
   "cell_type": "code",
   "execution_count": null,
   "metadata": {},
   "outputs": [],
   "source": [
    "def gradient(filtered_x, filtered_y):\n",
    "    return torch.sqrt(torch.multiply(filtered_x,filtered_x) + torch.multiply(filtered_y,filtered_y))"
   ]
  },
  {
   "cell_type": "code",
   "execution_count": null,
   "metadata": {},
   "outputs": [],
   "source": [
    "def conv(img, flat_kernel, kernel_shape, padding, stride):\n",
    "\n",
    "    output_size = ((img.shape[-2]+padding[0]*2-kernel_shape[0])//stride[0]+1,\n",
    "                   (img.shape[-1]+padding[1]*2-kernel_shape[1])//stride[1]+1)\n",
    "    img = img[None, :, :]\n",
    "    x = F.unfold(img, kernel_size=kernel_shape,\n",
    "                 stride=stride, padding=padding)\n",
    "\n",
    "    x = flat_kernel @ x\n",
    "\n",
    "    return torch.reshape(x, output_size)\n"
   ]
  },
  {
   "cell_type": "code",
   "execution_count": null,
   "metadata": {},
   "outputs": [],
   "source": [
    "# Use these 1D kernels to construct Prewitt 2D kernels\n",
    "kernel1 = torch.Tensor([[1, 0, -1]])\n",
    "kernel2 = torch.Tensor([[1, 0, 1]])\n",
    "\n",
    "def detect_edges(img, stride=1):\n",
    "\n",
    "    im_filterx = conv(img, kernel1, (1, 3), (0, 1), (1,stride))[None, :, :]\n",
    "    im_filterx = conv(im_filterx, kernel2, (3, 1), (1, 0), (stride, 1))\n",
    "\n",
    "    im_filtery = conv(img, kernel1, (3, 1), (1, 0), (stride, 1))[None, :, :]\n",
    "    im_filtery = conv(im_filtery, kernel2, (1, 3), (0, 1), (1, stride))\n",
    "\n",
    "    return gradient(im_filterx, im_filtery)\n"
   ]
  },
  {
   "cell_type": "code",
   "execution_count": null,
   "metadata": {},
   "outputs": [],
   "source": [
    "cv2.namedWindow(\"cam edges\")\n",
    "vc = cv2.VideoCapture(0)\n",
    "\n",
    "if vc.isOpened():  # try to get the first frame\n",
    "    rval, frame = vc.read()\n",
    "else:\n",
    "    rval = False\n",
    "\n",
    "# Set to integer 1,2,3,4 etc for better performance worse quality\n",
    "resize_factor = 1\n",
    "while rval:\n",
    "    rval, frame = vc.read()\n",
    "    key = cv2.waitKey(200)\n",
    "    bw_frame = transforms.Grayscale()(torch.Tensor(frame).permute(2, 0, 1))\n",
    "\n",
    "    frame_edge = detect_edges(bw_frame, stride=resize_factor)\n",
    "    frame_edge = (frame_edge*255//torch.max(frame_edge))\n",
    "\n",
    "    edges_np = frame_edge.numpy().astype(np.uint8)\n",
    "\n",
    "    colour_edges = cv2.applyColorMap(edges_np, cv2.COLORMAP_TWILIGHT_SHIFTED)\n",
    "\n",
    "\n",
    "    resized_edges = cv2.resize(\n",
    "        colour_edges, (frame.shape[1], frame.shape[0]))\n",
    "\n",
    "    concat = np.concatenate(\n",
    "        (frame, resized_edges), axis=1).astype(np.uint8)\n",
    "\n",
    "    cv2.imshow(\"cam edges\", concat)\n",
    "    \n",
    "    if key == 27:  # exit on ESC\n",
    "        break\n",
    "\n",
    "\n",
    "vc.release()\n",
    "cv2.destroyWindow(\"cam edges\")\n"
   ]
  }
 ],
 "metadata": {
  "kernelspec": {
   "display_name": "Python 3",
   "language": "python",
   "name": "python3"
  },
  "language_info": {
   "codemirror_mode": {
    "name": "ipython",
    "version": 3
   },
   "file_extension": ".py",
   "mimetype": "text/x-python",
   "name": "python",
   "nbconvert_exporter": "python",
   "pygments_lexer": "ipython3",
   "version": "3.10.9"
  },
  "orig_nbformat": 4,
  "vscode": {
   "interpreter": {
    "hash": "86580b34d9e683017e2f00b9de15ecbc4b8113474bcd241888a2f2402baffccf"
   }
  }
 },
 "nbformat": 4,
 "nbformat_minor": 2
}
